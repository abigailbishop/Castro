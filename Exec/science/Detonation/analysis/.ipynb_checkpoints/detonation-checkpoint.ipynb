{
 "cells": [
  {
   "cell_type": "code",
   "execution_count": 1,
   "metadata": {},
   "outputs": [],
   "source": [
    "import yt\n",
    "import glob\n",
    "import numpy as np\n",
    "\n",
    "%matplotlib notebook\n",
    "import matplotlib.pyplot as plt\n",
    "plt.ion()"
   ]
  },
  {
   "cell_type": "code",
   "execution_count": 2,
   "metadata": {},
   "outputs": [],
   "source": [
    "yt.funcs.mylog.setLevel(0)\n",
    "\n",
    "plotfiles = sorted(list(glob.glob(\"det_x_plt?????\")))"
   ]
  },
  {
   "cell_type": "code",
   "execution_count": 3,
   "metadata": {},
   "outputs": [],
   "source": [
    "def get_x_var(pf, var=\"Temp\"):\n",
    "    ds = yt.load(pf)\n",
    "    time = float(ds.current_time)\n",
    "    ad = ds.all_data()\n",
    "    srt = np.argsort(ad['x'])                                                                                                                                                \n",
    "    x_coord = np.array(ad['x'][srt])                                                                                                                                         \n",
    "    var = np.array(ad[var][srt])\n",
    "    return time, x_coord, var"
   ]
  },
  {
   "cell_type": "code",
   "execution_count": 4,
   "metadata": {},
   "outputs": [],
   "source": [
    "for n, pf in enumerate(plotfiles):\n",
    "    t, x, v = get_x_var(pf)\n",
    "    if n == 0:\n",
    "        fig = plt.figure()\n",
    "        ax = fig.add_subplot(111)\n",
    "        ax.set_ylim((1.e7, 5.e9))\n",
    "        ax.set_title(t)\n",
    "        line, = ax.semilogy(x, v)\n",
    "    else:\n",
    "        line.set_data(x, v)\n",
    "        ax.set_title(t)\n",
    "        fig.canvas.draw()"
   ]
  },
  {
   "cell_type": "code",
   "execution_count": null,
   "metadata": {},
   "outputs": [],
   "source": []
  },
  {
   "cell_type": "code",
   "execution_count": null,
   "metadata": {},
   "outputs": [],
   "source": []
  }
 ],
 "metadata": {
  "kernelspec": {
   "display_name": "Python 3",
   "language": "python",
   "name": "python3"
  },
  "language_info": {
   "codemirror_mode": {
    "name": "ipython",
    "version": 3
   },
   "file_extension": ".py",
   "mimetype": "text/x-python",
   "name": "python",
   "nbconvert_exporter": "python",
   "pygments_lexer": "ipython3",
   "version": "3.6.6"
  }
 },
 "nbformat": 4,
 "nbformat_minor": 2
}
